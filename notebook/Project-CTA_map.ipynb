{
 "cells": [
  {
   "cell_type": "code",
   "execution_count": 1,
   "metadata": {},
   "outputs": [],
   "source": [
    "%matplotlib inline\n",
    "\n",
    "%load_ext autoreload\n",
    "%autoreload 2"
   ]
  },
  {
   "cell_type": "code",
   "execution_count": 2,
   "metadata": {},
   "outputs": [],
   "source": [
    "import pandas as pd\n",
    "import numpy as np\n",
    "import os\n",
    "import sys\n",
    "\n",
    "#figure making packages\n",
    "import bokeh\n",
    "from bokeh.plotting import figure, show, output_notebook, output_file\n",
    "from bokeh.tile_providers import CARTODBPOSITRON\n",
    "from bokeh.models import ColumnDataSource, HoverTool\n",
    "import seaborn as sns\n",
    "import matplotlib.pyplot as plt\n",
    "\n",
    "#import customized modules\n",
    "src_dir = os.path.abspath(os.path.join(os.pardir, 'src'))\n",
    "sys.path[0] = src_dir\n",
    "from modules import *"
   ]
  },
  {
   "cell_type": "markdown",
   "metadata": {},
   "source": [
    "# Challenge Questions\n",
    "\n",
    "Please choose a specific business and tell us which business you chose; any kind of business will do. Imagine you’re helping that business owner in Chicago and s/he is looking to open a new location. In the form of writing, potentially supplemented by sketches (computer-drawn or hand-drawn) and links, we want to see your response to these questions:\n",
    "\n",
    "- What questions could you potentially explore/answer with this data?\n",
    "- Ideally, what other data would you gather or combine to learn even more?\n",
    "- How would you want to see data presented, to make it actionable by you or others?\n",
    "- How could an algorithm or model be used? How might your client interact with that algorithm or model?\n",
    "\n",
    "Furthermore, we want to see the results of 2–3 hours of work, using the real data, towards making those ideas a reality. The results could include findings from the data, code, Python/R notebooks, a visualization, results of a statistical model you built, etc. Try not to hide things or throw them away— we want to see your work!"
   ]
  },
  {
   "cell_type": "markdown",
   "metadata": {},
   "source": [
    "# Some additional guidelines\n",
    "\n",
    "- We're not expecting perfection here; this is intended to be something you spend an afternoon or so on. Send us whatever you used to tackle the problem, even if it’s not pretty.\n",
    "- You're not required to use any specific tools— pick your favorites. Colored pencils are just as valid as d3. Think of this as an opportunity to showcase your strengths.\n",
    "- Feel free to aggregate or filter the data however you see fit— if you want to focus on a particular train line, time period, season, stop, neighborhood, etc, go for it. \"Big Data\" isn't necessarily going to impress us more than a thoughtful approach or interesting findings from a small slice, especially if that aligns with the story you’re telling."
   ]
  },
  {
   "cell_type": "markdown",
   "metadata": {},
   "source": [
    "# Why are we doing this?\n",
    "\n",
    "This challenge is not all that different from what happens at the beginning of a project at IDEO. We have to go from large amounts of ambiguity to valuable work in short periods of time, and we do it by empathizing with the needs of our client, imagining what’s possible, selecting the most promising ideas, and working swiftly and iteratively to share our work early and build towards the bigger ideas. If you find this fun, you’re going to like it here.\n",
    "\n",
    "This also gives you an opportunity to show us what you’re capable of; this is what we do instead of unrealistic and unreliable whiteboard coding interviews. And afterwards, you’ll have a little data project to add to your portfolio that you can build on further if you want to."
   ]
  },
  {
   "cell_type": "code",
   "execution_count": 3,
   "metadata": {},
   "outputs": [],
   "source": [
    "# file names of the data\n",
    "cta_entry_fname = '../data/CTA_-_Ridership_-__L__Station_Entries_-_Daily_Totals.csv'\n",
    "cta_station_fname = '../data/CTA_-_System_Information_-_List_of__L__Stops.csv'"
   ]
  },
  {
   "cell_type": "code",
   "execution_count": 4,
   "metadata": {},
   "outputs": [],
   "source": [
    "# read data into data frames\n",
    "df_cta_entry = pd.read_csv(cta_entry_fname)\n",
    "df_cta_entry['date'] = df_cta_entry.date.apply(lambda x: str_to_date(x))\n",
    "df_cta_station = pd.read_csv(cta_station_fname)"
   ]
  },
  {
   "cell_type": "code",
   "execution_count": 5,
   "metadata": {},
   "outputs": [],
   "source": [
    "# rename columns of the data frame for easier access\n",
    "df_cta_station.columns = df_cta_station.columns.str.lower().str.replace(' ', '_')"
   ]
  },
  {
   "cell_type": "code",
   "execution_count": 6,
   "metadata": {
    "scrolled": true
   },
   "outputs": [],
   "source": [
    "#assign colors to each stations\n",
    "df_cta_station['color'] = df_cta_station.apply(lambda row: find_color(row), axis=1)"
   ]
  },
  {
   "cell_type": "code",
   "execution_count": 7,
   "metadata": {},
   "outputs": [],
   "source": [
    "#substitute for missing color\n",
    "df_cta_station.at[263,'color'] = ['red']\n",
    "df_cta_station.at[264,'color'] = ['red']"
   ]
  },
  {
   "cell_type": "code",
   "execution_count": 8,
   "metadata": {},
   "outputs": [],
   "source": [
    "# get longitude and latitude coordinates\n",
    "df_cta_station['coords_x'] = df_cta_station['location'].apply(lambda x: merc(x)[0])\n",
    "df_cta_station['coords_y'] = df_cta_station['location'].apply(lambda x: merc(x)[1])"
   ]
  },
  {
   "cell_type": "code",
   "execution_count": 9,
   "metadata": {},
   "outputs": [],
   "source": [
    "# merge the information about the stations with the ridership data\n",
    "df_mean_ridership = pd.DataFrame(df_cta_entry.groupby(['station_id']).rides.mean())\n",
    "df_merge = pd.merge(df_cta_station, df_mean_ridership, left_on='map_id', right_index=True)\n",
    "df_merge['circle_size'] = df_merge['rides']/500"
   ]
  },
  {
   "cell_type": "code",
   "execution_count": 10,
   "metadata": {},
   "outputs": [],
   "source": [
    "#define one station color for those where there are multiple lines crossing\n",
    "df_merge['station_color'] = df_merge['color'].apply(lambda x: x[0])"
   ]
  },
  {
   "cell_type": "code",
   "execution_count": 11,
   "metadata": {
    "scrolled": false
   },
   "outputs": [],
   "source": [
    "#initialize data format to plot interactive map for CTA train stations\n",
    "source = ColumnDataSource(\n",
    "                data=dict(x=[], \n",
    "                y=[],\n",
    "                ridership=[],\n",
    "                sizes=[],\n",
    "                stationname=[],\n",
    "                line_color=[],\n",
    "                fill_color=[]))\n",
    "\n",
    "for c, group in df_merge.groupby('station_color'):\n",
    "    group = group.drop_duplicates('station_name')\n",
    "    data = dict(\n",
    "                x=list(group['coords_x']), \n",
    "                y=list(group['coords_y']),\n",
    "                ridership=list(group['rides']),\n",
    "                sizes=list(group['circle_size']),\n",
    "                stationname=list(group['station_descriptive_name']),\n",
    "                line_color=[c]*len(group),\n",
    "                fill_color=[c]*len(group))\n",
    "    #append data \n",
    "    source.stream(data)\n",
    "\n",
    "    hover = HoverTool(tooltips=[\n",
    "    (\"station\", \"@stationname\"),\n",
    "    (\"ridership\",\"@ridership\")\n",
    "    \n",
    "])\n",
    "\n",
    "p = figure(x_range=(-9780000, -9745000), y_range=(5130000, 5160000),\n",
    "           x_axis_type=\"mercator\", y_axis_type=\"mercator\",\n",
    "          tools=[hover, 'wheel_zoom', 'save'])\n",
    "\n",
    "p.add_tile(CARTODBPOSITRON)\n",
    "\n",
    "\n",
    "p.grid.grid_line_color = None\n",
    "\n",
    "p.circle(x='x', y='y', \n",
    "        source=source,\n",
    "        size='sizes',\n",
    "        line_color='line_color',\n",
    "        fill_color='fill_color',\n",
    "        fill_alpha=0.05)\n",
    "\n",
    "# output_notebook()\n",
    "show(p)"
   ]
  },
  {
   "cell_type": "code",
   "execution_count": null,
   "metadata": {},
   "outputs": [],
   "source": []
  }
 ],
 "metadata": {
  "kernelspec": {
   "display_name": "Python 3",
   "language": "python",
   "name": "python3"
  },
  "language_info": {
   "codemirror_mode": {
    "name": "ipython",
    "version": 3
   },
   "file_extension": ".py",
   "mimetype": "text/x-python",
   "name": "python",
   "nbconvert_exporter": "python",
   "pygments_lexer": "ipython3",
   "version": "3.7.2"
  }
 },
 "nbformat": 4,
 "nbformat_minor": 2
}
