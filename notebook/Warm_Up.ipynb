{
 "cells": [
  {
   "cell_type": "code",
   "execution_count": 13,
   "metadata": {},
   "outputs": [
    {
     "name": "stdout",
     "output_type": "stream",
     "text": [
      "The autoreload extension is already loaded. To reload it, use:\n",
      "  %reload_ext autoreload\n"
     ]
    }
   ],
   "source": [
    "# import jupyter notebook magic to show plots and automatically load modules\n",
    "%matplotlib inline\n",
    "%load_ext autoreload\n",
    "%autoreload 2"
   ]
  },
  {
   "cell_type": "code",
   "execution_count": 14,
   "metadata": {},
   "outputs": [],
   "source": [
    "# import python packages for solving the problem\n",
    "import pandas as pd\n",
    "import math\n",
    "import numpy as np\n",
    "from datetime import datetime\n",
    "\n",
    "import seaborn as sns\n",
    "import matplotlib.pyplot as plt"
   ]
  },
  {
   "cell_type": "code",
   "execution_count": null,
   "metadata": {},
   "outputs": [],
   "source": [
    "# file names of the data\n",
    "cta_entry_fname = '../data/CTA_-_Ridership_-__L__Station_Entries_-_Daily_Totals.csv'\n",
    "cta_station_fname = '../data/CTA_-_System_Information_-_List_of__L__Stops.csv'"
   ]
  },
  {
   "cell_type": "code",
   "execution_count": null,
   "metadata": {},
   "outputs": [],
   "source": [
    "# read data into data frames\n",
    "df_cta_entry = pd.read_csv(cta_entry_fname)\n",
    "# convert the date in string to datetime\n",
    "df_cta_entry['date'] = df_cta_entry.date.apply(lambda x: str_to_date(x))\n",
    "df_cta_station = pd.read_csv(cta_station_fname)"
   ]
  },
  {
   "cell_type": "markdown",
   "metadata": {},
   "source": [
    "# Warm Up Questions\n",
    "\n",
    "- Which stop has the highest average ridership per day, and what is it?\n",
    "\n",
    "- What’s the standard deviation for the Washington/Wabash stop? What’s your hypothesis for why?"
   ]
  },
  {
   "cell_type": "markdown",
   "metadata": {},
   "source": [
    "## Highest average ridership"
   ]
  },
  {
   "cell_type": "markdown",
   "metadata": {},
   "source": [
    "Station with the highest average ridership per day is Clark/Lake, with mean of 13972.55(~13973)  people per day"
   ]
  },
  {
   "cell_type": "code",
   "execution_count": null,
   "metadata": {},
   "outputs": [],
   "source": [
    "# group each ride by each station, and calculate the mean\n",
    "df_rides = pd.DataFrame(df_cta_entry.groupby(['stationname']).rides.mean())\n",
    "# sort the station in order of highest mean to lowest mean per day\n",
    "df_rides = df_rides.sort_values('rides', ascending=False)\n",
    "# station withe the highest mean is the first station\n",
    "highest_mean = df_rides.iloc[0]"
   ]
  },
  {
   "cell_type": "code",
   "execution_count": null,
   "metadata": {
    "scrolled": true
   },
   "outputs": [],
   "source": [
    "print('Train station with the highest aveage ridership per day is : {}'.format(highest_mean.name))"
   ]
  },
  {
   "cell_type": "markdown",
   "metadata": {},
   "source": [
    "### Plot for the average ridership for each station in descending order"
   ]
  },
  {
   "cell_type": "code",
   "execution_count": null,
   "metadata": {},
   "outputs": [],
   "source": [
    "fig, ax = plt.subplots(figsize=(20, 10))\n",
    "df_rides = df_rides.reset_index()\n",
    "sns.barplot(x='stationname', y='rides', data=df_rides, ax=ax)\n",
    "for item in ax.get_xticklabels():\n",
    "    item.set_rotation(90)\n",
    "#figure style\n",
    "fontsize=16\n",
    "ax.set_xlabel('Stop', fontsize=fontsize)\n",
    "ax.set_xticklabels(df_rides.stationname, fontsize=0.5*fontsize)\n",
    "ax.set_ylabel('Number of rides', fontsize=fontsize)\n",
    "\n",
    "fig.savefig('../result/average_ridership.png', transparent=True)"
   ]
  },
  {
   "cell_type": "markdown",
   "metadata": {},
   "source": [
    "##  What’s the standard deviation for the Washington/Wabash stop? What’s your hypothesis for why?"
   ]
  },
  {
   "cell_type": "markdown",
   "metadata": {},
   "source": [
    "In the data set, Washington/Wabash which is the staion hosting 5 lines (Green, Brown, Purple Express, Pink and Orange) has less than 100 customers per day until 8/30/2017, then surges up to thousands on 8/31/2017. From this observation, we can infer that Washington/Wabash was either under construction or closed. \n",
    "\n",
    "By cross checking with CTA (https://www.transitchicago.com/washingtonwabash/) Washington/Wabash opened on August 31, 2017. From this information, we can conclude that ~100 customers per day until 8/30/2017 is probably operators or test users.\n",
    "\n",
    "There are two other dates 2017-10-18 and 29 that have very low ridership (<100), which we can infer that the station was closed, however, since I could not find any other online data to confirm this, the two dates will be included in inferring the average ridership at Washington and Wabash. "
   ]
  },
  {
   "cell_type": "code",
   "execution_count": null,
   "metadata": {},
   "outputs": [],
   "source": [
    "map_id = df_cta_station[df_cta_station.STATION_NAME=='Washington/Wabash'].MAP_ID.unique()[0]"
   ]
  },
  {
   "cell_type": "code",
   "execution_count": null,
   "metadata": {},
   "outputs": [],
   "source": [
    "df_ww = df_cta_entry[(df_cta_entry.station_id == map_id) & \n",
    "             (df_cta_entry.date >= pd.Timestamp('2017-08-31'))]"
   ]
  },
  {
   "cell_type": "code",
   "execution_count": null,
   "metadata": {},
   "outputs": [],
   "source": [
    "ax = sns.scatterplot(x='date', y='rides',hue='daytype', style='daytype', data=df_ww)\n",
    "axes = ax.axes\n",
    "axes.set_xlim([pd.Timestamp('2017-8-20'), df_ww.date.iloc[-1]])\n",
    "#figure style\n",
    "fontsize=16\n",
    "axes.set_xlabel('Date', fontsize=fontsize)\n",
    "axes.set_ylabel('Number of rides', fontsize=fontsize)\n",
    "axes.legend(bbox_to_anchor=(1.02, 1))\n",
    "plt.savefig('../../ridership_washington_wabash.png', transparent=True)"
   ]
  },
  {
   "cell_type": "code",
   "execution_count": 13,
   "metadata": {},
   "outputs": [
    {
     "data": {
      "image/png": "[encoded data removed]",
      "text/plain": [
       "<Figure size 432x288 with 1 Axes>"
      ]
     },
     "metadata": {
      "needs_background": "light"
     },
     "output_type": "display_data"
    }
   ],
   "source": [
    "ax = sns.distplot(df_ww.rides, bins=np.arange(0, 15000, 500))"
   ]
  },
  {
   "cell_type": "code",
   "execution_count": 16,
   "metadata": {},
   "outputs": [
    {
     "data": {
      "text/plain": [
       "2831.9266306337395"
      ]
     },
     "execution_count": 16,
     "metadata": {},
     "output_type": "execute_result"
    }
   ],
   "source": [
    "df_ww.rides.std()"
   ]
  },
  {
   "cell_type": "code",
   "execution_count": null,
   "metadata": {},
   "outputs": [],
   "source": []
  }
 ],
 "metadata": {
  "kernelspec": {
   "display_name": "Python 3",
   "language": "python",
   "name": "python3"
  },
  "language_info": {
   "codemirror_mode": {
    "name": "ipython",
    "version": 3
   },
   "file_extension": ".py",
   "mimetype": "text/x-python",
   "name": "python",
   "nbconvert_exporter": "python",
   "pygments_lexer": "ipython3",
   "version": "3.7.2"
  }
 },
 "nbformat": 4,
 "nbformat_minor": 2
}
