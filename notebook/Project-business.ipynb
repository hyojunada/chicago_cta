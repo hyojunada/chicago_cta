{
 "cells": [
  {
   "cell_type": "code",
   "execution_count": null,
   "metadata": {},
   "outputs": [],
   "source": [
    "%matplotlib inline\n",
    "\n",
    "%load_ext autoreload\n",
    "%autoreload 2"
   ]
  },
  {
   "cell_type": "code",
   "execution_count": 5,
   "metadata": {},
   "outputs": [],
   "source": [
    "import pandas as pd\n",
    "import math\n",
    "import numpy as np\n",
    "from datetime import datetime\n",
    "import os, sys\n",
    "\n",
    "import seaborn as sns\n",
    "import matplotlib.pyplot as plt\n",
    "\n",
    "#import customized modules\n",
    "src_dir = os.path.abspath(os.path.join(os.pardir, 'src'))\n",
    "sys.path[0] = src_dir\n",
    "from modules import *"
   ]
  },
  {
   "cell_type": "code",
   "execution_count": 6,
   "metadata": {
    "scrolled": true
   },
   "outputs": [
    {
     "name": "stderr",
     "output_type": "stream",
     "text": [
      "/anaconda3/envs/cta/lib/python3.7/site-packages/IPython/core/interactiveshell.py:3044: DtypeWarning: Columns (9,16,17) have mixed types. Specify dtype option on import or set low_memory=False.\n",
      "  interactivity=interactivity, compiler=compiler, result=result)\n"
     ]
    }
   ],
   "source": [
    "# read all the business licensese in chicago\n",
    "business_fname = '../data/Business_Licenses.csv'\n",
    "df_business = pd.read_csv(business_fname)"
   ]
  },
  {
   "cell_type": "code",
   "execution_count": 8,
   "metadata": {},
   "outputs": [],
   "source": [
    "df_business.columns = df_business.columns.str.lower().str.replace(' ', '_')"
   ]
  },
  {
   "cell_type": "code",
   "execution_count": 70,
   "metadata": {},
   "outputs": [],
   "source": [
    "# filter for license code 1006, which is code for Retail Food Establishment\n",
    "df_retail_food = df_business[df_business.license_code == 1006]\n",
    "# filter for business id: \n",
    "# 775 : Retail Sales of Perishable Foods\n",
    "df_retail_food = df_retail_food.dropna(subset=['business_activity_id'])\n",
    "df_perishable_coffee = df_retail_food[(df_retail_food.business_activity_id.str.contains('775'))]"
   ]
  },
  {
   "cell_type": "code",
   "execution_count": 71,
   "metadata": {},
   "outputs": [
    {
     "name": "stderr",
     "output_type": "stream",
     "text": [
      "/anaconda3/envs/cta/lib/python3.7/site-packages/ipykernel_launcher.py:1: SettingWithCopyWarning: \n",
      "A value is trying to be set on a copy of a slice from a DataFrame.\n",
      "Try using .loc[row_indexer,col_indexer] = value instead\n",
      "\n",
      "See the caveats in the documentation: http://pandas.pydata.org/pandas-docs/stable/indexing.html#indexing-view-versus-copy\n",
      "  \"\"\"Entry point for launching an IPython kernel.\n"
     ]
    }
   ],
   "source": [
    "# to find whether the business is active or not, transform the dates strings into time stamps for the license start date\n",
    "df_perishable_coffee['license_term_start_date'] = df_perishable_coffee.license_term_start_date.apply(lambda x: str_to_date(x))"
   ]
  },
  {
   "cell_type": "code",
   "execution_count": 109,
   "metadata": {},
   "outputs": [],
   "source": [
    "# estimate which stores would be active right now, we will only use licenses active after 2016\n",
    "df_pc_present = df_perishable_coffee[df_perishable_coffee.license_term_start_date > pd.Timestamp('2016-01-01')]\n",
    "df_pc_present = df_pc_present.drop_duplicates(subset=['legal_name', 'address'])\n",
    "# drop rows that don't have data on the zip code\n",
    "df_pc_present = df_pc_present.dropna(subset=['zip_code'])\n",
    "df_pc_present['zip_code'] = df_pc_present.zip_code.astype(int)"
   ]
  },
  {
   "cell_type": "code",
   "execution_count": 110,
   "metadata": {},
   "outputs": [
    {
     "name": "stdout",
     "output_type": "stream",
     "text": [
      "66\n"
     ]
    },
    {
     "data": {
      "text/html": [
       "<div>\n",
       "<style scoped>\n",
       "    .dataframe tbody tr th:only-of-type {\n",
       "        vertical-align: middle;\n",
       "    }\n",
       "\n",
       "    .dataframe tbody tr th {\n",
       "        vertical-align: top;\n",
       "    }\n",
       "\n",
       "    .dataframe thead th {\n",
       "        text-align: right;\n",
       "    }\n",
       "</style>\n",
       "<table border=\"1\" class=\"dataframe\">\n",
       "  <thead>\n",
       "    <tr style=\"text-align: right;\">\n",
       "      <th></th>\n",
       "      <th>index</th>\n",
       "      <th>zip_code</th>\n",
       "    </tr>\n",
       "  </thead>\n",
       "  <tbody>\n",
       "    <tr>\n",
       "      <th>33</th>\n",
       "      <td>60601</td>\n",
       "      <td>95</td>\n",
       "    </tr>\n",
       "  </tbody>\n",
       "</table>\n",
       "</div>"
      ],
      "text/plain": [
       "    index  zip_code\n",
       "33  60601        95"
      ]
     },
     "execution_count": 110,
     "metadata": {},
     "output_type": "execute_result"
    }
   ],
   "source": [
    "print(len(df_barplot))\n",
    "df_barplot[df_barplot['index']==60601]"
   ]
  },
  {
   "cell_type": "code",
   "execution_count": 111,
   "metadata": {},
   "outputs": [
    {
     "data": {
      "image/png": "[encoded data removed]",
      "text/plain": [
       "<Figure size 1080x216 with 1 Axes>"
      ]
     },
     "metadata": {
      "needs_background": "light"
     },
     "output_type": "display_data"
    }
   ],
   "source": [
    "# count the number of food retail stores in each zipcodeß\n",
    "fig, ax = plt.subplots(figsize=(15, 3))\n",
    "df_barplot = pd.DataFrame(df_pc_present['zip_code'].value_counts()).reset_index()\n",
    "colors = []\n",
    "for i, row in df_barplot.iterrows():\n",
    "    if row['index'] == 60601:\n",
    "        colors.append('r')\n",
    "    else:\n",
    "        colors.append('slateblue')\n",
    "\n",
    "df_barplot.plot(x='index', y='zip_code', ax=ax, kind='bar', color=colors,legend=False )\n",
    "\n",
    "fontsize=12\n",
    "ax.set_xlabel('Zip code', fontsize=fontsize)\n",
    "ax.set_ylabel('Number of food retailers',fontsize=fontsize)\n",
    "fig.savefig('../result/number_of_food_retailor.png', transparent=True,bbox_inches='tight')"
   ]
  },
  {
   "cell_type": "code",
   "execution_count": null,
   "metadata": {},
   "outputs": [],
   "source": []
  }
 ],
 "metadata": {
  "kernelspec": {
   "display_name": "Python 3",
   "language": "python",
   "name": "python3"
  }
 },
 "nbformat": 4,
 "nbformat_minor": 2
}
